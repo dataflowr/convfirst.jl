{
 "cells": [
  {
   "cell_type": "code",
   "execution_count": null,
   "id": "9a71b382",
   "metadata": {},
   "outputs": [],
   "source": [
    "using LinearAlgebra, Zygote, Plots"
   ]
  },
  {
   "cell_type": "code",
   "execution_count": null,
   "id": "052ba68d",
   "metadata": {},
   "outputs": [],
   "source": [
    "const n = 100\n",
    "S = circshift(Matrix{Float64}(I, n, n),(1,0))\n",
    "\n",
    "function loss(W)\n",
    "    norm(W*S-S*W)/norm(W)\n",
    "end\n",
    "\n",
    "function step!(W;lr=0.003)\n",
    "    # computing current loss and backprop\n",
    "    current_loss, back_loss = pullback(w -> loss(w),W)\n",
    "    # computing gradient\n",
    "    grads = back_loss(1)[1]\n",
    "    # updating W \n",
    "    W .-= lr .*grads\n",
    "end\n",
    "\n",
    "W = randn(n,n)\n",
    "W ./= norm(W)"
   ]
  },
  {
   "cell_type": "code",
   "execution_count": null,
   "id": "cbb00e21",
   "metadata": {},
   "outputs": [],
   "source": [
    "heatmap(W,clims=(-0.03,0.03),legend=:none,axis=nothing)"
   ]
  },
  {
   "cell_type": "code",
   "execution_count": null,
   "id": "3b4097d2",
   "metadata": {},
   "outputs": [],
   "source": [
    "for i=1:1000\n",
    "    step!(W)\n",
    "end\n",
    "\n",
    "heatmap(W,clims=(-0.03,0.03),legend=:none,axis=nothing)"
   ]
  },
  {
   "cell_type": "markdown",
   "id": "cb3246ce",
   "metadata": {},
   "source": [
    "For more ressources [![dataflowr](https://raw.githubusercontent.com/dataflowr/website/master/_assets/dataflowr_logo.png)](https://dataflowr.github.io/website/modules/extras/Convolutions_first/)"
   ]
  },
  {
   "cell_type": "code",
   "execution_count": null,
   "id": "71b3b559",
   "metadata": {},
   "outputs": [],
   "source": []
  }
 ],
 "metadata": {
  "kernelspec": {
   "display_name": "Julia 1.5.2",
   "language": "julia",
   "name": "julia-1.5"
  },
  "language_info": {
   "file_extension": ".jl",
   "mimetype": "application/julia",
   "name": "julia",
   "version": "1.5.2"
  }
 },
 "nbformat": 4,
 "nbformat_minor": 5
}
