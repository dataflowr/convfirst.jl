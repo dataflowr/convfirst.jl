{
 "cells": [
  {
   "cell_type": "code",
   "execution_count": null,
   "id": "8ffa2e3c",
   "metadata": {},
   "outputs": [],
   "source": [
    "using Flux, LinearAlgebra, Polynomials, Plots"
   ]
  },
  {
   "cell_type": "code",
   "execution_count": null,
   "id": "2d48bd68",
   "metadata": {},
   "outputs": [],
   "source": [
    "const n = 100\n",
    "# target polynomial\n",
    "c = ChebyshevT([-1,0,-2,0,1,0,1,2,3])\n",
    "target = convert(Polynomial, c)\n",
    "plot(target, (-1.,1.)...,label=\"target\")"
   ]
  },
  {
   "cell_type": "code",
   "execution_count": null,
   "id": "837d2c00",
   "metadata": {},
   "outputs": [],
   "source": [
    "length(target.coeffs)"
   ]
  },
  {
   "cell_type": "code",
   "execution_count": null,
   "id": "da635d2a",
   "metadata": {},
   "outputs": [],
   "source": [
    "S = circshift(Matrix{Float64}(I, n, n),(1,0))\n",
    "param = zeros(n)\n",
    "param[1:9] = target.coeffs\n",
    "Circulant = param\n",
    "for k in 1:n-1\n",
    "    Circulant = hcat(Circulant, S^k*param)\n",
    "end"
   ]
  },
  {
   "cell_type": "code",
   "execution_count": null,
   "id": "84efcd29",
   "metadata": {},
   "outputs": [],
   "source": [
    "# creating dataset\n",
    "bs = 3000\n",
    "x = randn(Float32,n,1,bs)\n",
    "y = convert(Array{Float32},reshape(transpose(Circulant)*dropdims(x;dims=2) ,(n,1,bs)))\n",
    "data = [(x,y)]"
   ]
  },
  {
   "cell_type": "code",
   "execution_count": null,
   "id": "fdabe2c2",
   "metadata": {},
   "outputs": [],
   "source": [
    "# padding function to work modulo n\n",
    "function pad_cycl(x;l=1,r=1)\n",
    "    last = size(x,1)\n",
    "    xl = selectdim(x,1,last-l+1:last)\n",
    "    xr = selectdim(x,1,1:r)\n",
    "    cat(xl, x, xr, dims=1)\n",
    "end\n",
    "\n",
    "# neural network with 7 convolution layers\n",
    "model = Chain(\n",
    "    x -> pad_cycl(x,l=0,r=2),\n",
    "    CrossCor((3,),1=>1,bias=Flux.Zeros()),\n",
    "    x -> pad_cycl(x,l=0,r=2),\n",
    "    CrossCor((3,),1=>1,bias=Flux.Zeros()),\n",
    "    x -> pad_cycl(x,l=0,r=2),\n",
    "    CrossCor((3,),1=>1,bias=Flux.Zeros()),\n",
    "    x -> pad_cycl(x,l=0,r=2),\n",
    "    CrossCor((3,),1=>1,bias=Flux.Zeros()),\n",
    "    x -> pad_cycl(x,l=0,r=2),\n",
    "    CrossCor((3,),1=>1,bias=Flux.Zeros()),\n",
    "    x -> pad_cycl(x,l=0,r=2),\n",
    "    CrossCor((3,),1=>1,bias=Flux.Zeros()),\n",
    "    x -> pad_cycl(x,l=0,r=2),\n",
    "    CrossCor((3,),1=>1,bias=Flux.Zeros())\n",
    ")\n",
    "\n",
    "loss(x, y) = Flux.Losses.mse(model(x), y)\n",
    "ps = Flux.params(model)\n",
    "loss_vector = Vector{Float32}()\n",
    "logging_loss() = push!(loss_vector, loss(x, y))\n",
    "opt = ADAM(0.2)"
   ]
  },
  {
   "cell_type": "code",
   "execution_count": null,
   "id": "b35ee6e1",
   "metadata": {},
   "outputs": [],
   "source": [
    "n_epochs = 1000\n",
    "for epochs in 1:n_epochs\n",
    "    Flux.train!(loss, ps, data, opt, cb=logging_loss)\n",
    "    if epochs % 50 == 0\n",
    "        println(\"Epoch: \", epochs, \" | Loss: \", loss(x,y))\n",
    "    end\n",
    "end"
   ]
  },
  {
   "cell_type": "code",
   "execution_count": null,
   "id": "69871827",
   "metadata": {},
   "outputs": [],
   "source": [
    "plot(loss_vector)"
   ]
  },
  {
   "cell_type": "code",
   "execution_count": null,
   "id": "8c19c656",
   "metadata": {},
   "outputs": [],
   "source": [
    "pred = Polynomial([1])\n",
    "for p in ps\n",
    "    if typeof(p) <: Array\n",
    "        pred *= Polynomial([p...])\n",
    "    end\n",
    "end\n",
    "plot(target, (-1.,1.)...,label=\"target\")\n",
    "ylims!((-10,10))\n",
    "plot!(pred, (-1.,1.)...,label=\"pred\")"
   ]
  },
  {
   "cell_type": "markdown",
   "id": "c660e267",
   "metadata": {},
   "source": [
    "For more ressources [![dataflowr](https://raw.githubusercontent.com/dataflowr/website/master/_assets/dataflowr_logo.png)](https://dataflowr.github.io/website/modules/extras/Convolutions_first/)"
   ]
  },
  {
   "cell_type": "code",
   "execution_count": null,
   "id": "71c82a1c",
   "metadata": {},
   "outputs": [],
   "source": []
  },
  {
   "cell_type": "code",
   "execution_count": null,
   "id": "d323187f",
   "metadata": {},
   "outputs": [],
   "source": []
  }
 ],
 "metadata": {
  "kernelspec": {
   "display_name": "Julia 1.5.2",
   "language": "julia",
   "name": "julia-1.5"
  },
  "language_info": {
   "file_extension": ".jl",
   "mimetype": "application/julia",
   "name": "julia",
   "version": "1.5.2"
  }
 },
 "nbformat": 4,
 "nbformat_minor": 5
}
